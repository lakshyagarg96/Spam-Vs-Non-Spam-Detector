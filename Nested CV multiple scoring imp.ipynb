{
 "cells": [
  {
   "cell_type": "markdown",
   "id": "f79a70ef",
   "metadata": {},
   "source": [
    "# Question 5"
   ]
  },
  {
   "cell_type": "code",
   "execution_count": 1,
   "id": "5c2cbeaa",
   "metadata": {},
   "outputs": [],
   "source": [
    "import pandas as pd\n",
    "import numpy as np\n",
    "import random\n",
    "from sklearn.tree import DecisionTreeClassifier\n",
    "from sklearn.model_selection import train_test_split, KFold, cross_val_score, cross_validate\n",
    "from sklearn.metrics import classification_report, confusion_matrix, cohen_kappa_score, make_scorer\n",
    "import matplotlib.pyplot as plt\n",
    "from sklearn import linear_model\n",
    "from sklearn import neighbors, datasets\n",
    "from sklearn import preprocessing\n",
    "from sklearn.preprocessing import StandardScaler\n",
    "from sklearn.linear_model import LogisticRegression\n",
    "\n",
    "\n",
    "from sklearn.model_selection import RandomizedSearchCV, GridSearchCV, train_test_split\n",
    "from sklearn.model_selection import train_test_split\n",
    "from sklearn.metrics import accuracy_score\n",
    "from sklearn.datasets import load_iris\n",
    "from sklearn.neighbors import KNeighborsClassifier\n",
    "from sklearn.svm import SVC\n",
    "import scikitplot as skplt\n",
    "from sklearn.naive_bayes import MultinomialNB\n",
    "\n",
    "import warnings\n",
    "warnings.filterwarnings(\"ignore\", category = UserWarning)"
   ]
  },
  {
   "cell_type": "code",
   "execution_count": 2,
   "id": "483111e7",
   "metadata": {},
   "outputs": [],
   "source": [
    "df = pd.read_csv('/Users/lakshyagarg/Desktop/Fall_sem/Predictive_analytics/HW2_grid_search/car.csv')"
   ]
  },
  {
   "cell_type": "markdown",
   "id": "e45274ae",
   "metadata": {},
   "source": [
    "# Visualize data"
   ]
  },
  {
   "cell_type": "code",
   "execution_count": 3,
   "id": "19618d47",
   "metadata": {},
   "outputs": [
    {
     "name": "stdout",
     "output_type": "stream",
     "text": [
      "  buying  maint doors persons lug_boot safety  Class\n",
      "0  vhigh  vhigh     2       2    small    low  unacc\n",
      "1  vhigh  vhigh     2       2    small    med  unacc\n",
      "2  vhigh  vhigh     2       2    small   high  unacc\n",
      "3  vhigh  vhigh     2       2      med    low  unacc\n",
      "4  vhigh  vhigh     2       2      med    med  unacc\n",
      "['vhigh' 'high' 'med' 'low']\n",
      "['vhigh' 'high' 'med' 'low']\n",
      "['small' 'med' 'big']\n",
      "['low' 'med' 'high']\n",
      "['unacc' 'acc' 'vgood' 'good']\n",
      "(1728, 7)\n",
      "<class 'pandas.core.frame.DataFrame'>\n",
      "RangeIndex: 1728 entries, 0 to 1727\n",
      "Data columns (total 7 columns):\n",
      " #   Column    Non-Null Count  Dtype \n",
      "---  ------    --------------  ----- \n",
      " 0   buying    1728 non-null   object\n",
      " 1   maint     1728 non-null   object\n",
      " 2   doors     1728 non-null   object\n",
      " 3   persons   1728 non-null   object\n",
      " 4   lug_boot  1728 non-null   object\n",
      " 5   safety    1728 non-null   object\n",
      " 6   Class     1728 non-null   object\n",
      "dtypes: object(7)\n",
      "memory usage: 94.6+ KB\n",
      "buying      0\n",
      "maint       0\n",
      "doors       0\n",
      "persons     0\n",
      "lug_boot    0\n",
      "safety      0\n",
      "Class       0\n",
      "dtype: int64\n",
      "Index(['buying', 'maint', 'doors', 'persons', 'lug_boot', 'safety', 'Class'], dtype='object')\n"
     ]
    }
   ],
   "source": [
    "print (df.head(5))\n",
    "print (df['buying'].unique())\n",
    "print (df['maint'].unique())\n",
    "print (df['lug_boot'].unique())\n",
    "print (df['safety'].unique())\n",
    "print (df['Class'].unique())\n",
    "\n",
    "print (df.shape)\n",
    "df.info()\n",
    "print(df.isna().sum())\n",
    "\n",
    "print (df.columns)\n",
    "\n",
    "\n"
   ]
  },
  {
   "cell_type": "code",
   "execution_count": 4,
   "id": "02ae4ec9",
   "metadata": {},
   "outputs": [
    {
     "name": "stdout",
     "output_type": "stream",
     "text": [
      "Class\n",
      "acc       384\n",
      "good       69\n",
      "unacc    1210\n",
      "vgood      65\n",
      "dtype: int64\n"
     ]
    }
   ],
   "source": [
    "df_g = df.groupby(['Class']).size()\n",
    "print (df_g)"
   ]
  },
  {
   "cell_type": "markdown",
   "id": "daf46cc2",
   "metadata": {},
   "source": [
    "# Converting in one hot encoding"
   ]
  },
  {
   "cell_type": "code",
   "execution_count": 5,
   "id": "dea619dd",
   "metadata": {},
   "outputs": [],
   "source": [
    "y_buy = pd.get_dummies(df.buying, prefix='buying')\n",
    "y_maint = pd.get_dummies(df.maint, prefix='maint')\n",
    "y_lug_boot = pd.get_dummies(df.lug_boot, prefix='lug_boot')\n",
    "y_safety = pd.get_dummies(df.safety, prefix='safety')\n",
    "\n",
    "\n",
    "df = df.drop(['buying','maint','lug_boot','safety'], axis = 'columns')\n",
    "df = pd.concat([df,y_buy,y_maint,y_lug_boot,y_safety], axis='columns')\n",
    "\n",
    "df['persons'] = df['persons'].apply(lambda x: 5 if x == 'more' else int(x))\n",
    "df['doors'] = df['doors'].apply(lambda x: 5 if x == '5more' else int(x))\n",
    "\n",
    "def Class(x):\n",
    "    if x == 'vgood':\n",
    "        return 4\n",
    "    elif x == 'good':\n",
    "        return 3\n",
    "    elif x == 'acc':\n",
    "        return 2\n",
    "    else:\n",
    "        return 1\n",
    "    \n",
    "df['Class'] = df['Class'].apply(Class)\n",
    "\n",
    "print(df.columns)"
   ]
  },
  {
   "cell_type": "code",
   "execution_count": 6,
   "id": "ac5f2b0f",
   "metadata": {
    "scrolled": true
   },
   "outputs": [
    {
     "data": {
      "text/html": [
       "<div>\n",
       "<style scoped>\n",
       "    .dataframe tbody tr th:only-of-type {\n",
       "        vertical-align: middle;\n",
       "    }\n",
       "\n",
       "    .dataframe tbody tr th {\n",
       "        vertical-align: top;\n",
       "    }\n",
       "\n",
       "    .dataframe thead th {\n",
       "        text-align: right;\n",
       "    }\n",
       "</style>\n",
       "<table border=\"1\" class=\"dataframe\">\n",
       "  <thead>\n",
       "    <tr style=\"text-align: right;\">\n",
       "      <th></th>\n",
       "      <th>buying</th>\n",
       "      <th>maint</th>\n",
       "      <th>doors</th>\n",
       "      <th>persons</th>\n",
       "      <th>lug_boot</th>\n",
       "      <th>safety</th>\n",
       "      <th>Class</th>\n",
       "    </tr>\n",
       "  </thead>\n",
       "  <tbody>\n",
       "    <tr>\n",
       "      <th>0</th>\n",
       "      <td>vhigh</td>\n",
       "      <td>vhigh</td>\n",
       "      <td>2</td>\n",
       "      <td>2</td>\n",
       "      <td>small</td>\n",
       "      <td>low</td>\n",
       "      <td>unacc</td>\n",
       "    </tr>\n",
       "    <tr>\n",
       "      <th>1</th>\n",
       "      <td>vhigh</td>\n",
       "      <td>vhigh</td>\n",
       "      <td>2</td>\n",
       "      <td>2</td>\n",
       "      <td>small</td>\n",
       "      <td>med</td>\n",
       "      <td>unacc</td>\n",
       "    </tr>\n",
       "    <tr>\n",
       "      <th>2</th>\n",
       "      <td>vhigh</td>\n",
       "      <td>vhigh</td>\n",
       "      <td>2</td>\n",
       "      <td>2</td>\n",
       "      <td>small</td>\n",
       "      <td>high</td>\n",
       "      <td>unacc</td>\n",
       "    </tr>\n",
       "    <tr>\n",
       "      <th>3</th>\n",
       "      <td>vhigh</td>\n",
       "      <td>vhigh</td>\n",
       "      <td>2</td>\n",
       "      <td>2</td>\n",
       "      <td>med</td>\n",
       "      <td>low</td>\n",
       "      <td>unacc</td>\n",
       "    </tr>\n",
       "    <tr>\n",
       "      <th>4</th>\n",
       "      <td>vhigh</td>\n",
       "      <td>vhigh</td>\n",
       "      <td>2</td>\n",
       "      <td>2</td>\n",
       "      <td>med</td>\n",
       "      <td>med</td>\n",
       "      <td>unacc</td>\n",
       "    </tr>\n",
       "  </tbody>\n",
       "</table>\n",
       "</div>"
      ],
      "text/plain": [
       "  buying  maint doors persons lug_boot safety  Class\n",
       "0  vhigh  vhigh     2       2    small    low  unacc\n",
       "1  vhigh  vhigh     2       2    small    med  unacc\n",
       "2  vhigh  vhigh     2       2    small   high  unacc\n",
       "3  vhigh  vhigh     2       2      med    low  unacc\n",
       "4  vhigh  vhigh     2       2      med    med  unacc"
      ]
     },
     "execution_count": 6,
     "metadata": {},
     "output_type": "execute_result"
    }
   ],
   "source": [
    "df.head(5)"
   ]
  },
  {
   "cell_type": "markdown",
   "id": "a18fb6fd",
   "metadata": {},
   "source": [
    "# Converting in label encoding"
   ]
  },
  {
   "cell_type": "code",
   "execution_count": 7,
   "id": "e5d3a6fb",
   "metadata": {},
   "outputs": [],
   "source": [
    "# def buying(x):\n",
    "#     if x == 'vhigh':\n",
    "#         return 4\n",
    "#     elif x == 'high':\n",
    "#         return 3\n",
    "#     elif x == 'med':\n",
    "#         return 2\n",
    "#     else:\n",
    "#         return 1\n",
    "    \n",
    "    \n",
    "# def maint(x):\n",
    "#     if x == 'vhigh':\n",
    "#         return 4\n",
    "#     elif x == 'high':\n",
    "#         return 3\n",
    "#     elif x == 'med':\n",
    "#         return 2\n",
    "#     else:\n",
    "#         return 1\n",
    "    \n",
    "\n",
    "# def lugboot(x):\n",
    "#     if x == 'big':\n",
    "#         return 3\n",
    "#     elif x == 'med':\n",
    "#         return 2\n",
    "#     else:\n",
    "#         return 1\n",
    "\n",
    "\n",
    "# def safety(x):\n",
    "#     if x == 'high':\n",
    "#         return 3\n",
    "#     elif x == 'med':\n",
    "#         return 2\n",
    "#     else:\n",
    "#         return 1\n",
    "    \n",
    "    \n",
    "# def Class(x):\n",
    "#     if x == 'vgood':\n",
    "#         return 4\n",
    "#     elif x == 'good':\n",
    "#         return 3\n",
    "#     elif x == 'acc':\n",
    "#         return 2\n",
    "#     else:\n",
    "#         return 1\n",
    "\n",
    "\n",
    "# df['buying'] = df['buying'].apply(buying)\n",
    "\n",
    "# df['maint'] = df['maint'].apply(maint)\n",
    "\n",
    "# df['lug_boot'] = df['lug_boot'].apply(lugboot)\n",
    "\n",
    "# df['safety'] = df['safety'].apply(safety)\n",
    "\n",
    "# df['Class'] = df['Class'].apply(Class)\n",
    "\n",
    "# df['persons'] = df['persons'].apply(lambda x: 5 if x == 'more' else int(x))\n",
    "\n",
    "# df['doors'] = df['doors'].apply(lambda x: 5 if x == '5more' else int(x))"
   ]
  },
  {
   "cell_type": "code",
   "execution_count": 8,
   "id": "f834296b",
   "metadata": {},
   "outputs": [
    {
     "data": {
      "text/plain": [
       "<bound method NDFrame.describe of       buying  maint  doors  persons  lug_boot  safety  Class\n",
       "0          4      4      2        2         1       1      1\n",
       "1          4      4      2        2         1       2      1\n",
       "2          4      4      2        2         1       3      1\n",
       "3          4      4      2        2         2       1      1\n",
       "4          4      4      2        2         2       2      1\n",
       "...      ...    ...    ...      ...       ...     ...    ...\n",
       "1723       1      1      5        5         2       2      3\n",
       "1724       1      1      5        5         2       3      4\n",
       "1725       1      1      5        5         3       1      1\n",
       "1726       1      1      5        5         3       2      3\n",
       "1727       1      1      5        5         3       3      4\n",
       "\n",
       "[1728 rows x 7 columns]>"
      ]
     },
     "execution_count": 8,
     "metadata": {},
     "output_type": "execute_result"
    }
   ],
   "source": [
    "df.head(5)\n",
    "df.describe"
   ]
  },
  {
   "cell_type": "markdown",
   "id": "9ef6b46c",
   "metadata": {},
   "source": [
    "# Train test split"
   ]
  },
  {
   "cell_type": "code",
   "execution_count": 9,
   "id": "b66966ea",
   "metadata": {},
   "outputs": [],
   "source": [
    "df_train = df.drop(['Class'], axis = 'columns')\n",
    "df_label = df['Class']\n",
    "X_train, X_test, y_train, y_test = train_test_split(df_train, df_label, test_size=0.20, random_state=42)"
   ]
  },
  {
   "cell_type": "code",
   "execution_count": 10,
   "id": "6cfbcbf9",
   "metadata": {},
   "outputs": [
    {
     "name": "stdout",
     "output_type": "stream",
     "text": [
      "(1382, 6)\n",
      "(1382,)\n",
      "(346, 6)\n",
      "(346,)\n"
     ]
    }
   ],
   "source": [
    "print (X_train.shape)\n",
    "print (y_train.shape)\n",
    "print (X_test.shape)\n",
    "print (y_test.shape)"
   ]
  },
  {
   "cell_type": "code",
   "execution_count": 11,
   "id": "dce595fe",
   "metadata": {},
   "outputs": [
    {
     "data": {
      "text/html": [
       "<div>\n",
       "<style scoped>\n",
       "    .dataframe tbody tr th:only-of-type {\n",
       "        vertical-align: middle;\n",
       "    }\n",
       "\n",
       "    .dataframe tbody tr th {\n",
       "        vertical-align: top;\n",
       "    }\n",
       "\n",
       "    .dataframe thead th {\n",
       "        text-align: right;\n",
       "    }\n",
       "</style>\n",
       "<table border=\"1\" class=\"dataframe\">\n",
       "  <thead>\n",
       "    <tr style=\"text-align: right;\">\n",
       "      <th></th>\n",
       "      <th>buying</th>\n",
       "      <th>maint</th>\n",
       "      <th>doors</th>\n",
       "      <th>persons</th>\n",
       "      <th>lug_boot</th>\n",
       "      <th>safety</th>\n",
       "      <th>Class</th>\n",
       "    </tr>\n",
       "  </thead>\n",
       "  <tbody>\n",
       "    <tr>\n",
       "      <th>0</th>\n",
       "      <td>4</td>\n",
       "      <td>4</td>\n",
       "      <td>2</td>\n",
       "      <td>2</td>\n",
       "      <td>1</td>\n",
       "      <td>1</td>\n",
       "      <td>1</td>\n",
       "    </tr>\n",
       "    <tr>\n",
       "      <th>1</th>\n",
       "      <td>4</td>\n",
       "      <td>4</td>\n",
       "      <td>2</td>\n",
       "      <td>2</td>\n",
       "      <td>1</td>\n",
       "      <td>2</td>\n",
       "      <td>1</td>\n",
       "    </tr>\n",
       "    <tr>\n",
       "      <th>2</th>\n",
       "      <td>4</td>\n",
       "      <td>4</td>\n",
       "      <td>2</td>\n",
       "      <td>2</td>\n",
       "      <td>1</td>\n",
       "      <td>3</td>\n",
       "      <td>1</td>\n",
       "    </tr>\n",
       "    <tr>\n",
       "      <th>3</th>\n",
       "      <td>4</td>\n",
       "      <td>4</td>\n",
       "      <td>2</td>\n",
       "      <td>2</td>\n",
       "      <td>2</td>\n",
       "      <td>1</td>\n",
       "      <td>1</td>\n",
       "    </tr>\n",
       "    <tr>\n",
       "      <th>4</th>\n",
       "      <td>4</td>\n",
       "      <td>4</td>\n",
       "      <td>2</td>\n",
       "      <td>2</td>\n",
       "      <td>2</td>\n",
       "      <td>2</td>\n",
       "      <td>1</td>\n",
       "    </tr>\n",
       "  </tbody>\n",
       "</table>\n",
       "</div>"
      ],
      "text/plain": [
       "   buying  maint  doors  persons  lug_boot  safety  Class\n",
       "0       4      4      2        2         1       1      1\n",
       "1       4      4      2        2         1       2      1\n",
       "2       4      4      2        2         1       3      1\n",
       "3       4      4      2        2         2       1      1\n",
       "4       4      4      2        2         2       2      1"
      ]
     },
     "execution_count": 11,
     "metadata": {},
     "output_type": "execute_result"
    }
   ],
   "source": [
    "df.head(5)"
   ]
  },
  {
   "cell_type": "code",
   "execution_count": 12,
   "id": "ec17fef2",
   "metadata": {},
   "outputs": [],
   "source": [
    "# Nested CV"
   ]
  },
  {
   "cell_type": "code",
   "execution_count": 13,
   "id": "32eabc97",
   "metadata": {},
   "outputs": [],
   "source": [
    "inner_cv = KFold(n_splits = 4, shuffle = False )\n",
    "outer_cv = KFold(n_splits =4, shuffle = False )\n",
    "scoring = {'acc':'accuracy','balanced_accuracy':'balanced_accuracy', 'recall_micro':'recall_micro'}\n",
    "\n"
   ]
  },
  {
   "cell_type": "code",
   "execution_count": 14,
   "id": "8220faff",
   "metadata": {},
   "outputs": [],
   "source": [
    "decisiontree =  DecisionTreeClassifier(random_state = 42)\n",
    "logistic_reg =  LogisticRegression()\n",
    "knn = KNeighborsClassifier()\n",
    "SVM = SVC(probability=True)\n",
    "naive_bayes= MultinomialNB()"
   ]
  },
  {
   "cell_type": "code",
   "execution_count": 15,
   "id": "b7ae4357",
   "metadata": {},
   "outputs": [],
   "source": [
    "# Decision tree grid\n",
    "max_depth_options = list(range(1,20))\n",
    "min_samples_leaf_options = list (range(1,6))\n",
    "dt_grid = dict(max_depth = max_depth_options, min_samples_leaf = min_samples_leaf_options)\n",
    "\n",
    "# Logistic regression grid\n",
    "max_iter_options = [1000]\n",
    "penalty_options = [\"l1\", \"l2\"]\n",
    "solver_options = ['saga']\n",
    "C_options = [1,100,500,1000]\n",
    "lr_grid = dict(penalty = penalty_options, C = C_options, max_iter = max_iter_options, solver = solver_options)\n",
    "\n",
    "# KNN grid\n",
    "k_range_options = list(range(1,16))\n",
    "weight_options = [\"uniform\", \"distance\"]\n",
    "knn_grid = dict(n_neighbors = k_range_options, weights = weight_options)\n",
    "\n",
    "# SVM grid\n",
    "svm_grid = {'C': [0.1, 1, 10, 100, 1000],\n",
    "              'gamma': [1, 0.1, 0.01, 0.001, 0.0001],\n",
    "              'kernel': ['rbf']}"
   ]
  },
  {
   "cell_type": "code",
   "execution_count": 16,
   "id": "becde191",
   "metadata": {},
   "outputs": [],
   "source": [
    "dt_clf = GridSearchCV(estimator=decisiontree, param_grid=dt_grid, scoring = scoring, cv=inner_cv,refit='acc')\n",
    "lr_clf = GridSearchCV(estimator=logistic_reg, param_grid=lr_grid, scoring = scoring, cv=inner_cv,refit='acc')\n",
    "knn_clf = GridSearchCV(estimator=knn, param_grid=knn_grid, scoring = scoring, cv=inner_cv,refit='acc')\n",
    "svr_clf = GridSearchCV(estimator=SVM, param_grid=svm_grid, scoring = scoring, cv=inner_cv,refit='acc')\n",
    "\n"
   ]
  },
  {
   "cell_type": "code",
   "execution_count": 17,
   "id": "59bf80b5",
   "metadata": {},
   "outputs": [
    {
     "name": "stdout",
     "output_type": "stream",
     "text": [
      "{'fit_time': array([0.00126219, 0.00098205, 0.00097108, 0.00098181]), 'score_time': array([0.00141788, 0.00134015, 0.00133586, 0.00134683]), 'test_acc': array([0.70809249, 0.74566474, 0.71014493, 0.65797101]), 'test_balanced_accuracy': array([0.25, 0.25, 0.25, 0.25]), 'test_recall_micro': array([0.70809249, 0.74566474, 0.71014493, 0.65797101])}\n"
     ]
    }
   ],
   "source": [
    "# Nested CV with parameter optimization\n",
    "dt_score = cross_validate(dt_clf, X= X_train, y=y_train, cv=outer_cv, scoring = scoring)\n",
    "# dt_scores = dt_score.mean()\n",
    "lr_score = cross_validate(lr_clf, X=X_train, y=y_train, cv=outer_cv, scoring = scoring)\n",
    "# lr_scores = lr_score.mean()\n",
    "knn_score = cross_validate(knn_clf, X=X_train, y=y_train, cv=outer_cv, scoring = scoring)\n",
    "# knn_scores = knn_score.mean()\n",
    "svr_score = cross_validate(svr_clf, X=X_train, y=y_train, cv=outer_cv, scoring = scoring)\n",
    "# svr_scores = svr_score.mean()\n",
    "naive_bayes_score = cross_validate(naive_bayes, X=X_train, y=y_train , cv=outer_cv, scoring = scoring)\n",
    "# naive_b_scores = naive_bayes_score.mean()\n",
    "print (naive_bayes_score)"
   ]
  },
  {
   "cell_type": "code",
   "execution_count": 18,
   "id": "780c81ef",
   "metadata": {},
   "outputs": [],
   "source": [
    "# y_pred_test_nb =naive_bayes.predict(X_test)\n",
    "# print (classification_report(y_test, y_pred_test_nb))"
   ]
  },
  {
   "cell_type": "code",
   "execution_count": 19,
   "id": "c791b962",
   "metadata": {},
   "outputs": [
    {
     "name": "stdout",
     "output_type": "stream",
     "text": [
      "                 model  test_acc  test_balanced_accuracy  test_recall_micro\n",
      "0        Decision Tree  0.975392                0.939558           0.975392\n",
      "1  K nearest neighbour  0.943537                0.836284           0.943537\n",
      "2  Logistic Regression  0.853093                0.723971           0.853093\n",
      "3          Naive Bayes  0.705468                0.250000           0.705468\n",
      "4       Support Vector  0.978292                0.958867           0.978292\n"
     ]
    }
   ],
   "source": [
    "dt_score =pd.DataFrame(dt_score)\n",
    "dt_score['model'] = 'Decision Tree'\n",
    "\n",
    "lr_score = pd.DataFrame(lr_score)\n",
    "lr_score['model'] = 'Logistic Regression'\n",
    "\n",
    "knn_score =  pd.DataFrame(knn_score)\n",
    "knn_score['model'] = 'K nearest neighbour'\n",
    "\n",
    "svr_score = pd.DataFrame(svr_score)\n",
    "svr_score['model'] = 'Support Vector'\n",
    "\n",
    "naive_bayes_score = pd.DataFrame(naive_bayes_score)\n",
    "naive_bayes_score['model'] = 'Naive Bayes'\n",
    "\n",
    "df_all_scores = pd.concat([dt_score,lr_score,knn_score,svr_score,naive_bayes_score], axis = 'rows')\n",
    "\n",
    "\n",
    "df_all_scores = df_all_scores.astype({'model': 'string'})\n",
    "\n",
    "# print (df_all_scores.dtypes)\n",
    "df_all_scores = df_all_scores[['test_acc','test_balanced_accuracy','test_recall_micro','model']]\n",
    "df_all_scores = df_all_scores.groupby(['model']).mean()\n",
    "df_all_scores = df_all_scores.reset_index()\n",
    "print (df_all_scores)\n",
    "df_all_scores.to_csv('/Users/lakshyagarg/Downloads/scores.csv')"
   ]
  },
  {
   "cell_type": "code",
   "execution_count": 20,
   "id": "b8a2964a",
   "metadata": {},
   "outputs": [
    {
     "name": "stdout",
     "output_type": "stream",
     "text": [
      "              precision    recall  f1-score   support\n",
      "\n",
      "           1       1.00      1.00      1.00       235\n",
      "           2       0.97      0.93      0.95        83\n",
      "           3       0.59      0.91      0.71        11\n",
      "           4       1.00      0.82      0.90        17\n",
      "\n",
      "    accuracy                           0.97       346\n",
      "   macro avg       0.89      0.92      0.89       346\n",
      "weighted avg       0.98      0.97      0.97       346\n",
      "\n"
     ]
    }
   ],
   "source": [
    "# Based on the accuracy score SVM is the best model, when we do one hot encoding\n",
    "# Retraining the SVM model we get\n",
    "svr_clf_2 = GridSearchCV(SVM, svm_grid, cv = inner_cv, scoring = scoring,refit='acc')\n",
    "svr_clf_2.fit(X_train,y_train)\n",
    "\n",
    "y_pred_test = svr_clf_2.predict(X_test)\n",
    "\n",
    "print (classification_report(y_test, y_pred_test))"
   ]
  }
 ],
 "metadata": {
  "kernelspec": {
   "display_name": "Python 3 (ipykernel)",
   "language": "python",
   "name": "python3"
  },
  "language_info": {
   "codemirror_mode": {
    "name": "ipython",
    "version": 3
   },
   "file_extension": ".py",
   "mimetype": "text/x-python",
   "name": "python",
   "nbconvert_exporter": "python",
   "pygments_lexer": "ipython3",
   "version": "3.8.8"
  }
 },
 "nbformat": 4,
 "nbformat_minor": 5
}
